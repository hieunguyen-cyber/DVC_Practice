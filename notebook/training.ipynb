{
 "cells": [
  {
   "cell_type": "code",
   "execution_count": null,
   "metadata": {},
   "outputs": [],
   "source": [
    "import mlflow\n",
    "import mlflow.sklearn\n",
    "from sklearn.ensemble import RandomForestClassifier\n",
    "from sklearn.linear_model import LogisticRegression\n",
    "from sklearn.metrics import accuracy_score, confusion_matrix, ConfusionMatrixDisplay\n",
    "import pickle\n",
    "import json\n",
    "import yaml\n",
    "import pandas as pd\n",
    "import dagshub\n",
    "from mlflow.models.signature import infer_signature\n",
    "import optuna\n",
    "import os"
   ]
  },
  {
   "cell_type": "code",
   "execution_count": 1,
   "metadata": {},
   "outputs": [
    {
     "ename": "NameError",
     "evalue": "name 'pd' is not defined",
     "output_type": "error",
     "traceback": [
      "\u001b[0;31m---------------------------------------------------------------------------\u001b[0m",
      "\u001b[0;31mNameError\u001b[0m                                 Traceback (most recent call last)",
      "Cell \u001b[0;32mIn[1], line 1\u001b[0m\n\u001b[0;32m----> 1\u001b[0m train_df \u001b[38;5;241m=\u001b[39m pd\u001b[38;5;241m.\u001b[39mread_csv(\u001b[38;5;124m\"\u001b[39m\u001b[38;5;124m../data/train.csv\u001b[39m\u001b[38;5;124m\"\u001b[39m)\n\u001b[1;32m      2\u001b[0m test_df \u001b[38;5;241m=\u001b[39m pd\u001b[38;5;241m.\u001b[39mread_csv(\u001b[38;5;124m\"\u001b[39m\u001b[38;5;124m../data/test.csv\u001b[39m\u001b[38;5;124m\"\u001b[39m)\n\u001b[1;32m      4\u001b[0m X_train, y_train \u001b[38;5;241m=\u001b[39m train_df\u001b[38;5;241m.\u001b[39miloc[:, :\u001b[38;5;241m-\u001b[39m\u001b[38;5;241m1\u001b[39m], train_df\u001b[38;5;241m.\u001b[39miloc[:, \u001b[38;5;241m-\u001b[39m\u001b[38;5;241m1\u001b[39m]\n",
      "\u001b[0;31mNameError\u001b[0m: name 'pd' is not defined"
     ]
    }
   ],
   "source": [
    "train_df = pd.read_csv(\"../data/train.csv\")\n",
    "test_df = pd.read_csv(\"../data/test.csv\")\n",
    "\n",
    "X_train, y_train = train_df.iloc[:, :-1], train_df.iloc[:, -1]\n",
    "X_test, y_test = test_df.iloc[:, :-1], test_df.iloc[:, -1]\n",
    "\n",
    "dagshub.init(repo_owner='hieunguyen-cyber', repo_name='DVC-MLflow-DAGsHub_Practice', mlflow=True)"
   ]
  },
  {
   "cell_type": "code",
   "execution_count": null,
   "metadata": {},
   "outputs": [
    {
     "name": "stderr",
     "output_type": "stream",
     "text": [
      "[I 2025-03-14 17:04:43,013] A new study created in memory with name: no-name-9dc4edf7-49f4-4aa6-ae1e-b36f70c8118c\n",
      "[I 2025-03-14 17:04:43,117] Trial 0 finished with value: 0.7272727272727273 and parameters: {'n_estimators': 144, 'max_depth': 12}. Best is trial 0 with value: 0.7272727272727273.\n",
      "[I 2025-03-14 17:04:43,194] Trial 1 finished with value: 0.7402597402597403 and parameters: {'n_estimators': 127, 'max_depth': 18}. Best is trial 1 with value: 0.7402597402597403.\n",
      "[I 2025-03-14 17:04:43,244] Trial 2 finished with value: 0.7337662337662337 and parameters: {'n_estimators': 83, 'max_depth': 10}. Best is trial 1 with value: 0.7402597402597403.\n",
      "[I 2025-03-14 17:04:43,277] Trial 3 finished with value: 0.7662337662337663 and parameters: {'n_estimators': 67, 'max_depth': 2}. Best is trial 3 with value: 0.7662337662337663.\n",
      "[I 2025-03-14 17:04:43,320] Trial 4 finished with value: 0.7597402597402597 and parameters: {'n_estimators': 68, 'max_depth': 6}. Best is trial 3 with value: 0.7662337662337663.\n",
      "[I 2025-03-14 17:04:43,374] Trial 5 finished with value: 0.7662337662337663 and parameters: {'n_estimators': 98, 'max_depth': 5}. Best is trial 3 with value: 0.7662337662337663.\n",
      "[I 2025-03-14 17:04:43,453] Trial 6 finished with value: 0.7467532467532467 and parameters: {'n_estimators': 122, 'max_depth': 11}. Best is trial 3 with value: 0.7662337662337663.\n",
      "[I 2025-03-14 17:04:43,470] Trial 7 finished with value: 0.7532467532467533 and parameters: {'n_estimators': 24, 'max_depth': 11}. Best is trial 3 with value: 0.7662337662337663.\n",
      "[I 2025-03-14 17:04:43,522] Trial 8 finished with value: 0.7402597402597403 and parameters: {'n_estimators': 78, 'max_depth': 17}. Best is trial 3 with value: 0.7662337662337663.\n",
      "[I 2025-03-14 17:04:43,604] Trial 9 finished with value: 0.7337662337662337 and parameters: {'n_estimators': 135, 'max_depth': 8}. Best is trial 3 with value: 0.7662337662337663.\n",
      "[I 2025-03-14 17:04:43,687] Trial 10 finished with value: 0.7727272727272727 and parameters: {'n_estimators': 192, 'max_depth': 2}. Best is trial 10 with value: 0.7727272727272727.\n",
      "[I 2025-03-14 17:04:43,771] Trial 11 finished with value: 0.7727272727272727 and parameters: {'n_estimators': 198, 'max_depth': 2}. Best is trial 10 with value: 0.7727272727272727.\n",
      "[I 2025-03-14 17:04:43,855] Trial 12 finished with value: 0.7727272727272727 and parameters: {'n_estimators': 200, 'max_depth': 2}. Best is trial 10 with value: 0.7727272727272727.\n",
      "[I 2025-03-14 17:04:43,950] Trial 13 finished with value: 0.7857142857142857 and parameters: {'n_estimators': 200, 'max_depth': 4}. Best is trial 13 with value: 0.7857142857142857.\n",
      "[I 2025-03-14 17:04:44,035] Trial 14 finished with value: 0.7662337662337663 and parameters: {'n_estimators': 168, 'max_depth': 5}. Best is trial 13 with value: 0.7857142857142857.\n",
      "[I 2025-03-14 17:04:44,137] Trial 15 finished with value: 0.7467532467532467 and parameters: {'n_estimators': 166, 'max_depth': 15}. Best is trial 13 with value: 0.7857142857142857.\n",
      "[I 2025-03-14 17:04:44,231] Trial 16 finished with value: 0.7467532467532467 and parameters: {'n_estimators': 174, 'max_depth': 6}. Best is trial 13 with value: 0.7857142857142857.\n",
      "[I 2025-03-14 17:04:44,324] Trial 17 finished with value: 0.7727272727272727 and parameters: {'n_estimators': 185, 'max_depth': 4}. Best is trial 13 with value: 0.7857142857142857.\n",
      "[I 2025-03-14 17:04:44,417] Trial 18 finished with value: 0.7597402597402597 and parameters: {'n_estimators': 153, 'max_depth': 9}. Best is trial 13 with value: 0.7857142857142857.\n",
      "[I 2025-03-14 17:04:44,427] Trial 19 finished with value: 0.7272727272727273 and parameters: {'n_estimators': 11, 'max_depth': 14}. Best is trial 13 with value: 0.7857142857142857.\n"
     ]
    },
    {
     "name": "stdout",
     "output_type": "stream",
     "text": [
      "🏃 View run learned-gnu-945 at: https://dagshub.com/hieunguyen-cyber/DVC-MLflow-DAGsHub_Practice.mlflow/#/experiments/0/runs/d3b5edb9ca454abcbd32a0e8a032b534\n",
      "🧪 View experiment at: https://dagshub.com/hieunguyen-cyber/DVC-MLflow-DAGsHub_Practice.mlflow/#/experiments/0\n"
     ]
    }
   ],
   "source": [
    "mlflow.set_experiment(\"RFC\")\n",
    "\n",
    "# Train model\n",
    "model = RandomForestClassifier(n_estimators=100, random_state=42)\n",
    "model.fit(X_train, y_train)\n",
    "\n",
    "# Predict and evaluate\n",
    "y_pred = model.predict(X_test)\n",
    "acc = accuracy_score(y_test, y_pred)\n",
    "\n",
    "# Convert test data to DataFrame for logging\n",
    "X_test_df = pd.DataFrame(X_test, columns=X_train.columns)  # Fix lỗi feature names\n",
    "y_test_df = pd.DataFrame(y_test, columns=[\"target\"])\n",
    "\n",
    "# Infer model signature\n",
    "signature = infer_signature(X_test, y_pred)\n",
    "\n",
    "# Define objective function for hyperparameter tuning\n",
    "def objective(trial):\n",
    "    n_estimators = trial.suggest_int(\"n_estimators\", 10, 200)\n",
    "    max_depth = trial.suggest_int(\"max_depth\", 2, 20)\n",
    "    \n",
    "    model = RandomForestClassifier(n_estimators=n_estimators, max_depth=max_depth, random_state=42)\n",
    "    model.fit(X_train, y_train)\n",
    "    y_pred = model.predict(X_test)\n",
    "    \n",
    "    return accuracy_score(y_test, y_pred)\n",
    "\n",
    "# Optimize hyperparameters using Optuna\n",
    "study = optuna.create_study(direction=\"maximize\")\n",
    "study.optimize(objective, n_trials=20)\n",
    "\n",
    "# Train the best model with optimal parameters\n",
    "best_params = study.best_params\n",
    "model = RandomForestClassifier(**best_params, random_state=42)\n",
    "model.fit(X_train, y_train)\n",
    "\n",
    "y_pred = model.predict(X_test)\n",
    "acc = accuracy_score(y_test, y_pred)\n",
    "\n",
    "# MLflow logging\n",
    "with mlflow.start_run():\n",
    "    mlflow.log_params(best_params)\n",
    "    mlflow.log_metric(\"accuracy\", acc)\n",
    "    signature = infer_signature(X_test, y_pred)\n",
    "    mlflow.sklearn.log_model(model, \"random_forest_model\", signature=signature)\n",
    "\n",
    "    # Save and log test data\n",
    "    X_test_df.to_csv(\"X_test.csv\", index=False)\n",
    "    y_test_df.to_csv(\"y_test.csv\", index=False)\n",
    "    mlflow.log_artifact(\"X_test.csv\")\n",
    "    mlflow.log_artifact(\"y_test.csv\")\n",
    "\n",
    "# Save model using DVC\n",
    "os.makedirs(\"../model\", exist_ok=True)\n",
    "with open(\"../model.pkl\", \"wb\") as f:\n",
    "    pickle.dump(model, f)\n",
    "\n",
    "# Save metrics\n",
    "with open(\"../metrics.json\", \"w\") as f:\n",
    "    json.dump({\"accuracy\": acc}, f)\n",
    "\n",
    "# Clean up temporary files\n",
    "os.remove(\"X_test.csv\")\n",
    "os.remove(\"y_test.csv\")\n"
   ]
  }
 ],
 "metadata": {
  "kernelspec": {
   "display_name": "base",
   "language": "python",
   "name": "python3"
  },
  "language_info": {
   "codemirror_mode": {
    "name": "ipython",
    "version": 3
   },
   "file_extension": ".py",
   "mimetype": "text/x-python",
   "name": "python",
   "nbconvert_exporter": "python",
   "pygments_lexer": "ipython3",
   "version": "3.12.7"
  }
 },
 "nbformat": 4,
 "nbformat_minor": 2
}
